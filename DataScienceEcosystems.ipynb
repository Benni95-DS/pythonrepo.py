{
 "cells": [
  {
   "cell_type": "markdown",
   "id": "9e109a8b-3c6a-46ac-bfb9-baba46d12f9c",
   "metadata": {},
   "source": [
    "# Data Science Tools and Ecosysytems"
   ]
  },
  {
   "cell_type": "markdown",
   "id": "fab44c03-d5e8-4587-b478-69f0a80f2901",
   "metadata": {},
   "source": [
    "In this notebook, Data Science tools are summarised."
   ]
  },
  {
   "cell_type": "markdown",
   "id": "31ef0237-a925-4b2e-b7da-94651a0d192f",
   "metadata": {},
   "source": [
    "**Objectives:**\n",
    "* List popular tools in Data Science\n",
    "* List popular languages in Data Science\n",
    "* List popular libraries in Data Science\n",
    "* Evaluating using arithmetic expressions"
   ]
  },
  {
   "cell_type": "markdown",
   "id": "1f6c893d-869f-4338-8183-a821eaa512b9",
   "metadata": {},
   "source": [
    "Some of the popular languages in Data Science are:\n",
    "1. C++\n",
    "2. Java\n",
    "3. Python\n",
    "4. R\n",
    "5. Scala"
   ]
  },
  {
   "cell_type": "markdown",
   "id": "a61e25e3-2490-40b2-88bb-64d262424bf5",
   "metadata": {},
   "source": [
    "Some of the most common libraries used by Data Scientists are:\n",
    "\n",
    "1. Matplotlib\n",
    "2. NumPy\n",
    "3. Pandas\n",
    "4. Pytorch\n",
    "5. Tensorflow\n"
   ]
  },
  {
   "cell_type": "markdown",
   "id": "6813a66e-0009-4de3-af11-6ef27008c447",
   "metadata": {},
   "source": [
    "Data Science Tools|-------------|\n",
    "|-----------------|-------------|\n",
    "|Data Management  |Oracle Database, SQL Server, IBM BD2|\n",
    "|Data Integration and Transformation| Informatica, Talend,IBM Inforsphere|\n",
    "|Data Visualisation | Tableau, Microsoft Power BI, IBM Cognos Analytics|\n",
    "|Model Building | SPSS, SAS, IBM Watson Studio Desktop|\n",
    "\n",
    "\n"
   ]
  },
  {
   "cell_type": "markdown",
   "id": "9195f650-263a-4b64-ae7c-bd4decd4fa81",
   "metadata": {},
   "source": [
    "### Below are a few examples of evaluating arithmetic expressions in Python"
   ]
  },
  {
   "cell_type": "code",
   "execution_count": 7,
   "id": "2f6dc786-47a3-43ba-b85e-b0482fa05841",
   "metadata": {},
   "outputs": [
    {
     "data": {
      "text/plain": [
       "17"
      ]
     },
     "execution_count": 7,
     "metadata": {},
     "output_type": "execute_result"
    }
   ],
   "source": [
    "# ___This is a simple arithmetic expression to multiply then add integers___\n",
    "(3*4) + 5\n",
    "\n"
   ]
  },
  {
   "cell_type": "code",
   "execution_count": 8,
   "id": "c94600af-4af6-4b4f-8110-78857c9d2383",
   "metadata": {},
   "outputs": [
    {
     "data": {
      "text/plain": [
       "3.3333333333333335"
      ]
     },
     "execution_count": 8,
     "metadata": {},
     "output_type": "execute_result"
    }
   ],
   "source": [
    "# This will convert 200 minutes to hours \n",
    "200/60"
   ]
  },
  {
   "cell_type": "markdown",
   "id": "8d1758be-96b9-4f88-86df-d48cfca71b22",
   "metadata": {},
   "source": [
    "## Author\n",
    "Bennedict Tshepiso Kolamane"
   ]
  },
  {
   "cell_type": "code",
   "execution_count": null,
   "id": "39fa56f4-9c3b-4a31-a42b-6d53d8dbb5f6",
   "metadata": {},
   "outputs": [],
   "source": []
  }
 ],
 "metadata": {
  "kernelspec": {
   "display_name": "Python 3 (ipykernel)",
   "language": "python",
   "name": "python3"
  },
  "language_info": {
   "codemirror_mode": {
    "name": "ipython",
    "version": 3
   },
   "file_extension": ".py",
   "mimetype": "text/x-python",
   "name": "python",
   "nbconvert_exporter": "python",
   "pygments_lexer": "ipython3",
   "version": "3.13.5"
  }
 },
 "nbformat": 4,
 "nbformat_minor": 5
}
